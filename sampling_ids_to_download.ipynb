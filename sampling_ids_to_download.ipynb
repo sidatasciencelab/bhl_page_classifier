{
 "cells": [
  {
   "cell_type": "code",
   "execution_count": 1,
   "id": "f31e1c75-2013-4a90-93d6-85d1d7e86a3b",
   "metadata": {},
   "outputs": [],
   "source": [
    "import pandas as pd"
   ]
  },
  {
   "cell_type": "code",
   "execution_count": 2,
   "id": "ce0c90c1-7c9f-4a28-ad35-10fd6cf28377",
   "metadata": {},
   "outputs": [
    {
     "name": "stdout",
     "output_type": "stream",
     "text": [
      "<class 'pandas.core.frame.DataFrame'>\n",
      "RangeIndex: 962747 entries, 0 to 962746\n",
      "Data columns (total 3 columns):\n",
      " #   Column        Non-Null Count   Dtype \n",
      "---  ------        --------------   ----- \n",
      " 0   PageID        962747 non-null  int64 \n",
      " 1   ItemID        962747 non-null  int64 \n",
      " 2   PageTypeName  962719 non-null  object\n",
      "dtypes: int64(2), object(1)\n",
      "memory usage: 22.0+ MB\n"
     ]
    }
   ],
   "source": [
    "bhl_pages = pd.read_csv('page_subset_htr_candidates.tsv', sep='\\t')\n",
    "bhl_pages.info()"
   ]
  },
  {
   "cell_type": "code",
   "execution_count": 3,
   "id": "c1893006-f6a2-4038-80bc-5d004a8a645d",
   "metadata": {},
   "outputs": [
    {
     "data": {
      "text/plain": [
       "Text                     807215\n",
       "Illustration              67305\n",
       "Blank                     56364\n",
       "Chart                     13403\n",
       "Cover                      7017\n",
       "Foldout                    5393\n",
       "Map                        2311\n",
       "Title Page                 1599\n",
       "Index                      1068\n",
       "Table of Contents           814\n",
       "List of Illustrations        84\n",
       "Appendix                     52\n",
       "Issue Start                  41\n",
       "Specimen                     29\n",
       "NaN                          28\n",
       "Article End                  12\n",
       "Article Start                12\n",
       "Name: PageTypeName, dtype: int64"
      ]
     },
     "execution_count": 3,
     "metadata": {},
     "output_type": "execute_result"
    }
   ],
   "source": [
    "bhl_pages['PageTypeName'].value_counts(dropna=False)"
   ]
  },
  {
   "cell_type": "code",
   "execution_count": 5,
   "id": "da9894fa-b881-4f19-96ed-56242cc26852",
   "metadata": {},
   "outputs": [
    {
     "name": "stdout",
     "output_type": "stream",
     "text": [
      "<class 'pandas.core.frame.DataFrame'>\n",
      "Int64Index: 714588 entries, 1 to 962746\n",
      "Data columns (total 3 columns):\n",
      " #   Column        Non-Null Count   Dtype \n",
      "---  ------        --------------   ----- \n",
      " 0   PageID        714588 non-null  int64 \n",
      " 1   ItemID        714588 non-null  int64 \n",
      " 2   PageTypeName  714562 non-null  object\n",
      "dtypes: int64(2), object(1)\n",
      "memory usage: 21.8+ MB\n"
     ]
    }
   ],
   "source": [
    "bhl_pages = bhl_pages.drop_duplicates(subset=['PageID'],\n",
    "                                      keep=False)\n",
    "bhl_pages.info()"
   ]
  },
  {
   "cell_type": "code",
   "execution_count": 6,
   "id": "d799383c-d5c1-46c4-b996-d694d7071d1b",
   "metadata": {},
   "outputs": [
    {
     "data": {
      "text/plain": [
       "Text                     624625\n",
       "Blank                     48090\n",
       "Illustration              23538\n",
       "Chart                      7827\n",
       "Cover                      6457\n",
       "Title Page                 1266\n",
       "Foldout                     984\n",
       "Table of Contents           690\n",
       "Map                         561\n",
       "Index                       384\n",
       "List of Illustrations        76\n",
       "Appendix                     44\n",
       "NaN                          26\n",
       "Specimen                     17\n",
       "Issue Start                   3\n",
       "Name: PageTypeName, dtype: int64"
      ]
     },
     "execution_count": 6,
     "metadata": {},
     "output_type": "execute_result"
    }
   ],
   "source": [
    "bhl_pages['PageTypeName'].value_counts(dropna=False)"
   ]
  },
  {
   "cell_type": "code",
   "execution_count": 7,
   "id": "0f040d64-f82c-46ea-8cf7-c4747df82542",
   "metadata": {},
   "outputs": [
    {
     "data": {
      "text/html": [
       "<div>\n",
       "<style scoped>\n",
       "    .dataframe tbody tr th:only-of-type {\n",
       "        vertical-align: middle;\n",
       "    }\n",
       "\n",
       "    .dataframe tbody tr th {\n",
       "        vertical-align: top;\n",
       "    }\n",
       "\n",
       "    .dataframe thead th {\n",
       "        text-align: right;\n",
       "    }\n",
       "</style>\n",
       "<table border=\"1\" class=\"dataframe\">\n",
       "  <thead>\n",
       "    <tr style=\"text-align: right;\">\n",
       "      <th></th>\n",
       "      <th>PageID</th>\n",
       "      <th>ItemID</th>\n",
       "      <th>PageTypeName</th>\n",
       "    </tr>\n",
       "  </thead>\n",
       "  <tbody>\n",
       "    <tr>\n",
       "      <th>75</th>\n",
       "      <td>1646675</td>\n",
       "      <td>17643</td>\n",
       "      <td>Cover</td>\n",
       "    </tr>\n",
       "    <tr>\n",
       "      <th>75</th>\n",
       "      <td>1646675</td>\n",
       "      <td>17643</td>\n",
       "      <td>Cover</td>\n",
       "    </tr>\n",
       "    <tr>\n",
       "      <th>75</th>\n",
       "      <td>1646675</td>\n",
       "      <td>17643</td>\n",
       "      <td>Cover</td>\n",
       "    </tr>\n",
       "    <tr>\n",
       "      <th>394</th>\n",
       "      <td>1646727</td>\n",
       "      <td>17643</td>\n",
       "      <td>Text</td>\n",
       "    </tr>\n",
       "    <tr>\n",
       "      <th>1474</th>\n",
       "      <td>1646742</td>\n",
       "      <td>17643</td>\n",
       "      <td>Text</td>\n",
       "    </tr>\n",
       "    <tr>\n",
       "      <th>310</th>\n",
       "      <td>1646791</td>\n",
       "      <td>17643</td>\n",
       "      <td>Text</td>\n",
       "    </tr>\n",
       "    <tr>\n",
       "      <th>57</th>\n",
       "      <td>1646685</td>\n",
       "      <td>17643</td>\n",
       "      <td>Title Page</td>\n",
       "    </tr>\n",
       "    <tr>\n",
       "      <th>57</th>\n",
       "      <td>1646685</td>\n",
       "      <td>17643</td>\n",
       "      <td>Title Page</td>\n",
       "    </tr>\n",
       "    <tr>\n",
       "      <th>57</th>\n",
       "      <td>1646685</td>\n",
       "      <td>17643</td>\n",
       "      <td>Title Page</td>\n",
       "    </tr>\n",
       "    <tr>\n",
       "      <th>348</th>\n",
       "      <td>2374272</td>\n",
       "      <td>19690</td>\n",
       "      <td>Cover</td>\n",
       "    </tr>\n",
       "    <tr>\n",
       "      <th>348</th>\n",
       "      <td>2374272</td>\n",
       "      <td>19690</td>\n",
       "      <td>Cover</td>\n",
       "    </tr>\n",
       "    <tr>\n",
       "      <th>838</th>\n",
       "      <td>2374137</td>\n",
       "      <td>19690</td>\n",
       "      <td>Cover</td>\n",
       "    </tr>\n",
       "    <tr>\n",
       "      <th>2844</th>\n",
       "      <td>2374135</td>\n",
       "      <td>19690</td>\n",
       "      <td>Table of Contents</td>\n",
       "    </tr>\n",
       "    <tr>\n",
       "      <th>2844</th>\n",
       "      <td>2374135</td>\n",
       "      <td>19690</td>\n",
       "      <td>Table of Contents</td>\n",
       "    </tr>\n",
       "    <tr>\n",
       "      <th>2844</th>\n",
       "      <td>2374135</td>\n",
       "      <td>19690</td>\n",
       "      <td>Table of Contents</td>\n",
       "    </tr>\n",
       "    <tr>\n",
       "      <th>1534</th>\n",
       "      <td>2374152</td>\n",
       "      <td>19690</td>\n",
       "      <td>Text</td>\n",
       "    </tr>\n",
       "    <tr>\n",
       "      <th>135</th>\n",
       "      <td>2374472</td>\n",
       "      <td>19690</td>\n",
       "      <td>Text</td>\n",
       "    </tr>\n",
       "    <tr>\n",
       "      <th>823</th>\n",
       "      <td>2374307</td>\n",
       "      <td>19690</td>\n",
       "      <td>Text</td>\n",
       "    </tr>\n",
       "    <tr>\n",
       "      <th>345</th>\n",
       "      <td>2374225</td>\n",
       "      <td>19690</td>\n",
       "      <td>Title Page</td>\n",
       "    </tr>\n",
       "    <tr>\n",
       "      <th>345</th>\n",
       "      <td>2374225</td>\n",
       "      <td>19690</td>\n",
       "      <td>Title Page</td>\n",
       "    </tr>\n",
       "  </tbody>\n",
       "</table>\n",
       "</div>"
      ],
      "text/plain": [
       "       PageID  ItemID       PageTypeName\n",
       "75    1646675   17643              Cover\n",
       "75    1646675   17643              Cover\n",
       "75    1646675   17643              Cover\n",
       "394   1646727   17643               Text\n",
       "1474  1646742   17643               Text\n",
       "310   1646791   17643               Text\n",
       "57    1646685   17643         Title Page\n",
       "57    1646685   17643         Title Page\n",
       "57    1646685   17643         Title Page\n",
       "348   2374272   19690              Cover\n",
       "348   2374272   19690              Cover\n",
       "838   2374137   19690              Cover\n",
       "2844  2374135   19690  Table of Contents\n",
       "2844  2374135   19690  Table of Contents\n",
       "2844  2374135   19690  Table of Contents\n",
       "1534  2374152   19690               Text\n",
       "135   2374472   19690               Text\n",
       "823   2374307   19690               Text\n",
       "345   2374225   19690         Title Page\n",
       "345   2374225   19690         Title Page"
      ]
     },
     "execution_count": 7,
     "metadata": {},
     "output_type": "execute_result"
    }
   ],
   "source": [
    "pages_to_dl = bhl_pages.groupby(['ItemID','PageTypeName']).sample(3, \n",
    "                                                                  replace=True, \n",
    "                                                                  random_state=42)\n",
    "pages_to_dl.head(20)"
   ]
  },
  {
   "cell_type": "code",
   "execution_count": 8,
   "id": "f2d3e4a5-2349-4f6c-b94a-23afc1681d6d",
   "metadata": {},
   "outputs": [
    {
     "name": "stdout",
     "output_type": "stream",
     "text": [
      "<class 'pandas.core.frame.DataFrame'>\n",
      "Int64Index: 37524 entries, 75 to 834734\n",
      "Data columns (total 3 columns):\n",
      " #   Column        Non-Null Count  Dtype \n",
      "---  ------        --------------  ----- \n",
      " 0   PageID        37524 non-null  int64 \n",
      " 1   ItemID        37524 non-null  int64 \n",
      " 2   PageTypeName  37524 non-null  object\n",
      "dtypes: int64(2), object(1)\n",
      "memory usage: 1.1+ MB\n"
     ]
    }
   ],
   "source": [
    "pages_to_dl.info()"
   ]
  },
  {
   "cell_type": "code",
   "execution_count": 9,
   "id": "06319d75-4c3f-4310-9391-1f43f2b12913",
   "metadata": {},
   "outputs": [
    {
     "name": "stdout",
     "output_type": "stream",
     "text": [
      "<class 'pandas.core.frame.DataFrame'>\n",
      "Int64Index: 27009 entries, 75 to 834734\n",
      "Data columns (total 3 columns):\n",
      " #   Column        Non-Null Count  Dtype \n",
      "---  ------        --------------  ----- \n",
      " 0   PageID        27009 non-null  int64 \n",
      " 1   ItemID        27009 non-null  int64 \n",
      " 2   PageTypeName  27009 non-null  object\n",
      "dtypes: int64(2), object(1)\n",
      "memory usage: 844.0+ KB\n"
     ]
    }
   ],
   "source": [
    "pages_to_dl = pages_to_dl.drop_duplicates()\n",
    "pages_to_dl.info()"
   ]
  },
  {
   "cell_type": "code",
   "execution_count": 10,
   "id": "8471db5f-5254-4b7b-90d6-fa4537d45d81",
   "metadata": {},
   "outputs": [
    {
     "data": {
      "text/html": [
       "<div>\n",
       "<style scoped>\n",
       "    .dataframe tbody tr th:only-of-type {\n",
       "        vertical-align: middle;\n",
       "    }\n",
       "\n",
       "    .dataframe tbody tr th {\n",
       "        vertical-align: top;\n",
       "    }\n",
       "\n",
       "    .dataframe thead th {\n",
       "        text-align: right;\n",
       "    }\n",
       "</style>\n",
       "<table border=\"1\" class=\"dataframe\">\n",
       "  <thead>\n",
       "    <tr style=\"text-align: right;\">\n",
       "      <th></th>\n",
       "      <th>PageID</th>\n",
       "      <th>ItemID</th>\n",
       "      <th>PageTypeName</th>\n",
       "    </tr>\n",
       "  </thead>\n",
       "  <tbody>\n",
       "    <tr>\n",
       "      <th>75</th>\n",
       "      <td>1646675</td>\n",
       "      <td>17643</td>\n",
       "      <td>Cover</td>\n",
       "    </tr>\n",
       "    <tr>\n",
       "      <th>394</th>\n",
       "      <td>1646727</td>\n",
       "      <td>17643</td>\n",
       "      <td>Text</td>\n",
       "    </tr>\n",
       "    <tr>\n",
       "      <th>1474</th>\n",
       "      <td>1646742</td>\n",
       "      <td>17643</td>\n",
       "      <td>Text</td>\n",
       "    </tr>\n",
       "    <tr>\n",
       "      <th>310</th>\n",
       "      <td>1646791</td>\n",
       "      <td>17643</td>\n",
       "      <td>Text</td>\n",
       "    </tr>\n",
       "    <tr>\n",
       "      <th>57</th>\n",
       "      <td>1646685</td>\n",
       "      <td>17643</td>\n",
       "      <td>Title Page</td>\n",
       "    </tr>\n",
       "    <tr>\n",
       "      <th>348</th>\n",
       "      <td>2374272</td>\n",
       "      <td>19690</td>\n",
       "      <td>Cover</td>\n",
       "    </tr>\n",
       "    <tr>\n",
       "      <th>838</th>\n",
       "      <td>2374137</td>\n",
       "      <td>19690</td>\n",
       "      <td>Cover</td>\n",
       "    </tr>\n",
       "    <tr>\n",
       "      <th>2844</th>\n",
       "      <td>2374135</td>\n",
       "      <td>19690</td>\n",
       "      <td>Table of Contents</td>\n",
       "    </tr>\n",
       "    <tr>\n",
       "      <th>1534</th>\n",
       "      <td>2374152</td>\n",
       "      <td>19690</td>\n",
       "      <td>Text</td>\n",
       "    </tr>\n",
       "    <tr>\n",
       "      <th>135</th>\n",
       "      <td>2374472</td>\n",
       "      <td>19690</td>\n",
       "      <td>Text</td>\n",
       "    </tr>\n",
       "    <tr>\n",
       "      <th>823</th>\n",
       "      <td>2374307</td>\n",
       "      <td>19690</td>\n",
       "      <td>Text</td>\n",
       "    </tr>\n",
       "    <tr>\n",
       "      <th>345</th>\n",
       "      <td>2374225</td>\n",
       "      <td>19690</td>\n",
       "      <td>Title Page</td>\n",
       "    </tr>\n",
       "    <tr>\n",
       "      <th>861155</th>\n",
       "      <td>2390601</td>\n",
       "      <td>19761</td>\n",
       "      <td>Cover</td>\n",
       "    </tr>\n",
       "    <tr>\n",
       "      <th>1624</th>\n",
       "      <td>2390348</td>\n",
       "      <td>19761</td>\n",
       "      <td>Cover</td>\n",
       "    </tr>\n",
       "    <tr>\n",
       "      <th>2420</th>\n",
       "      <td>2390346</td>\n",
       "      <td>19761</td>\n",
       "      <td>Table of Contents</td>\n",
       "    </tr>\n",
       "    <tr>\n",
       "      <th>861149</th>\n",
       "      <td>2390502</td>\n",
       "      <td>19761</td>\n",
       "      <td>Text</td>\n",
       "    </tr>\n",
       "    <tr>\n",
       "      <th>940</th>\n",
       "      <td>2390426</td>\n",
       "      <td>19761</td>\n",
       "      <td>Text</td>\n",
       "    </tr>\n",
       "    <tr>\n",
       "      <th>952</th>\n",
       "      <td>2390595</td>\n",
       "      <td>19761</td>\n",
       "      <td>Text</td>\n",
       "    </tr>\n",
       "    <tr>\n",
       "      <th>2872</th>\n",
       "      <td>2390465</td>\n",
       "      <td>19761</td>\n",
       "      <td>Title Page</td>\n",
       "    </tr>\n",
       "    <tr>\n",
       "      <th>1577</th>\n",
       "      <td>2412814</td>\n",
       "      <td>19830</td>\n",
       "      <td>Cover</td>\n",
       "    </tr>\n",
       "  </tbody>\n",
       "</table>\n",
       "</div>"
      ],
      "text/plain": [
       "         PageID  ItemID       PageTypeName\n",
       "75      1646675   17643              Cover\n",
       "394     1646727   17643               Text\n",
       "1474    1646742   17643               Text\n",
       "310     1646791   17643               Text\n",
       "57      1646685   17643         Title Page\n",
       "348     2374272   19690              Cover\n",
       "838     2374137   19690              Cover\n",
       "2844    2374135   19690  Table of Contents\n",
       "1534    2374152   19690               Text\n",
       "135     2374472   19690               Text\n",
       "823     2374307   19690               Text\n",
       "345     2374225   19690         Title Page\n",
       "861155  2390601   19761              Cover\n",
       "1624    2390348   19761              Cover\n",
       "2420    2390346   19761  Table of Contents\n",
       "861149  2390502   19761               Text\n",
       "940     2390426   19761               Text\n",
       "952     2390595   19761               Text\n",
       "2872    2390465   19761         Title Page\n",
       "1577    2412814   19830              Cover"
      ]
     },
     "execution_count": 10,
     "metadata": {},
     "output_type": "execute_result"
    }
   ],
   "source": [
    "pages_to_dl.head(20)"
   ]
  },
  {
   "cell_type": "code",
   "execution_count": 11,
   "id": "88ea2829-779d-4e79-baf1-3c2c0648a2c6",
   "metadata": {},
   "outputs": [
    {
     "data": {
      "text/plain": [
       "Text                     13022\n",
       "Cover                     4844\n",
       "Blank                     4709\n",
       "Illustration              1510\n",
       "Title Page                1202\n",
       "Table of Contents          574\n",
       "Chart                      388\n",
       "Foldout                    380\n",
       "Map                        244\n",
       "Index                      102\n",
       "List of Illustrations       19\n",
       "Appendix                     7\n",
       "Specimen                     6\n",
       "Issue Start                  2\n",
       "Name: PageTypeName, dtype: int64"
      ]
     },
     "execution_count": 11,
     "metadata": {},
     "output_type": "execute_result"
    }
   ],
   "source": [
    "pages_to_dl['PageTypeName'].value_counts()"
   ]
  },
  {
   "cell_type": "code",
   "execution_count": 12,
   "id": "342f0a54-e70a-430b-8dc3-834ad008006e",
   "metadata": {},
   "outputs": [
    {
     "name": "stdout",
     "output_type": "stream",
     "text": [
      "<class 'pandas.core.frame.DataFrame'>\n",
      "Int64Index: 24473 entries, 75 to 472661\n",
      "Data columns (total 3 columns):\n",
      " #   Column        Non-Null Count  Dtype \n",
      "---  ------        --------------  ----- \n",
      " 0   PageID        24473 non-null  int64 \n",
      " 1   ItemID        24473 non-null  int64 \n",
      " 2   PageTypeName  24473 non-null  object\n",
      "dtypes: int64(2), object(1)\n",
      "memory usage: 764.8+ KB\n"
     ]
    }
   ],
   "source": [
    "types_to_keep = ['Text','Blank','Cover','Illustration','Chart']\n",
    "pages_to_dl = pages_to_dl[pages_to_dl['PageTypeName'].isin(types_to_keep)]\n",
    "pages_to_dl.info()"
   ]
  },
  {
   "cell_type": "code",
   "execution_count": 13,
   "id": "f95450ec-64bd-41a6-8671-15c3f1f5e856",
   "metadata": {},
   "outputs": [],
   "source": [
    "pages_to_dl.to_csv('pages_to_download.tsv', sep='\\t', index=False)"
   ]
  },
  {
   "cell_type": "code",
   "execution_count": null,
   "id": "8aad0e86-28d2-41de-b38e-5b3c86539619",
   "metadata": {},
   "outputs": [],
   "source": []
  }
 ],
 "metadata": {
  "kernelspec": {
   "display_name": "Python 3 (ipykernel)",
   "language": "python",
   "name": "python3"
  },
  "language_info": {
   "codemirror_mode": {
    "name": "ipython",
    "version": 3
   },
   "file_extension": ".py",
   "mimetype": "text/x-python",
   "name": "python",
   "nbconvert_exporter": "python",
   "pygments_lexer": "ipython3",
   "version": "3.9.16"
  }
 },
 "nbformat": 4,
 "nbformat_minor": 5
}
