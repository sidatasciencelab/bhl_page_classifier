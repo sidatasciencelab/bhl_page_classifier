{
 "cells": [
  {
   "cell_type": "code",
   "execution_count": 3,
   "id": "0bb93e5e-b477-477e-8e8b-04c0b1d924ec",
   "metadata": {},
   "outputs": [
    {
     "name": "stdout",
     "output_type": "stream",
     "text": [
      "total 12G\n",
      "drwxrwxr-x 2 triznam triznam 4.0K Feb 14 15:32 .\n",
      "drwxrwxr-x 4 triznam triznam 4.0K Feb 17 10:41 ..\n",
      "-rw-rw-r-- 1 triznam triznam 3.2M Feb  1 04:32 creatoridentifier.txt\n",
      "-rw-rw-r-- 1 triznam triznam  29M Feb  1 04:31 creator.txt\n",
      "-rw-rw-r-- 1 triznam triznam  13M Feb  1 04:31 doi.txt\n",
      "-rw-rw-r-- 1 triznam triznam  99M Feb  1 04:32 item.txt\n",
      "-rw-rw-r-- 1 triznam triznam 7.8G Feb  1 04:42 pagename.txt\n",
      "-rw-rw-r-- 1 triznam triznam 3.4G Feb  1 04:48 page.txt\n",
      "-rw-rw-r-- 1 triznam triznam  18M Feb  1 04:32 partcreator.txt\n",
      "-rw-rw-r-- 1 triznam triznam 9.4M Feb  1 04:32 partidentifier.txt\n",
      "-rw-rw-r-- 1 triznam triznam 112M Feb  1 04:32 part.txt\n",
      "-rw-rw-r-- 1 triznam triznam  33M Feb  1 04:31 subject.txt\n",
      "-rw-rw-r-- 1 triznam triznam  17M Feb  1 04:31 titleidentifier.txt\n",
      "-rw-rw-r-- 1 triznam triznam  49M Feb  1 04:31 title.txt\n"
     ]
    }
   ],
   "source": [
    "!ls -alh Data"
   ]
  },
  {
   "cell_type": "code",
   "execution_count": 5,
   "id": "743d0b91-2fa1-4aa8-80b4-dfb7c4c7be7e",
   "metadata": {},
   "outputs": [],
   "source": [
    "import pandas as pd"
   ]
  },
  {
   "cell_type": "code",
   "execution_count": 7,
   "id": "6ffc0c3b-bc59-47ec-8a00-a1707a72d929",
   "metadata": {},
   "outputs": [
    {
     "data": {
      "text/html": [
       "<div>\n",
       "<style scoped>\n",
       "    .dataframe tbody tr th:only-of-type {\n",
       "        vertical-align: middle;\n",
       "    }\n",
       "\n",
       "    .dataframe tbody tr th {\n",
       "        vertical-align: top;\n",
       "    }\n",
       "\n",
       "    .dataframe thead th {\n",
       "        text-align: right;\n",
       "    }\n",
       "</style>\n",
       "<table border=\"1\" class=\"dataframe\">\n",
       "  <thead>\n",
       "    <tr style=\"text-align: right;\">\n",
       "      <th></th>\n",
       "      <th>PageID</th>\n",
       "      <th>ItemID</th>\n",
       "      <th>SequenceOrder</th>\n",
       "      <th>Year</th>\n",
       "      <th>Volume</th>\n",
       "      <th>Issue</th>\n",
       "      <th>PagePrefix</th>\n",
       "      <th>PageNumber</th>\n",
       "      <th>PageTypeName</th>\n",
       "      <th>CreationDate</th>\n",
       "    </tr>\n",
       "  </thead>\n",
       "  <tbody>\n",
       "    <tr>\n",
       "      <th>0</th>\n",
       "      <td>8</td>\n",
       "      <td>698</td>\n",
       "      <td>8</td>\n",
       "      <td>1905</td>\n",
       "      <td>36</td>\n",
       "      <td>1</td>\n",
       "      <td>Page</td>\n",
       "      <td>1</td>\n",
       "      <td>Text</td>\n",
       "      <td>2006-05-12 00:00</td>\n",
       "    </tr>\n",
       "    <tr>\n",
       "      <th>1</th>\n",
       "      <td>25</td>\n",
       "      <td>698</td>\n",
       "      <td>25</td>\n",
       "      <td>1905</td>\n",
       "      <td>36</td>\n",
       "      <td>1</td>\n",
       "      <td>Page</td>\n",
       "      <td>18</td>\n",
       "      <td>Text</td>\n",
       "      <td>2006-05-12 00:00</td>\n",
       "    </tr>\n",
       "    <tr>\n",
       "      <th>2</th>\n",
       "      <td>32</td>\n",
       "      <td>698</td>\n",
       "      <td>32</td>\n",
       "      <td>1905</td>\n",
       "      <td>36</td>\n",
       "      <td>1</td>\n",
       "      <td>Page</td>\n",
       "      <td>25</td>\n",
       "      <td>Text</td>\n",
       "      <td>2006-05-12 00:00</td>\n",
       "    </tr>\n",
       "    <tr>\n",
       "      <th>3</th>\n",
       "      <td>59</td>\n",
       "      <td>698</td>\n",
       "      <td>59</td>\n",
       "      <td>1905</td>\n",
       "      <td>36</td>\n",
       "      <td>1</td>\n",
       "      <td>Page</td>\n",
       "      <td>52</td>\n",
       "      <td>Text</td>\n",
       "      <td>2006-05-12 00:00</td>\n",
       "    </tr>\n",
       "    <tr>\n",
       "      <th>4</th>\n",
       "      <td>62</td>\n",
       "      <td>698</td>\n",
       "      <td>62</td>\n",
       "      <td>1905</td>\n",
       "      <td>36</td>\n",
       "      <td>1</td>\n",
       "      <td>Page</td>\n",
       "      <td>55</td>\n",
       "      <td>Text</td>\n",
       "      <td>2006-05-12 00:00</td>\n",
       "    </tr>\n",
       "  </tbody>\n",
       "</table>\n",
       "</div>"
      ],
      "text/plain": [
       "   PageID  ItemID  SequenceOrder  Year  Volume Issue PagePrefix PageNumber  \\\n",
       "0       8     698              8  1905      36     1       Page          1   \n",
       "1      25     698             25  1905      36     1       Page         18   \n",
       "2      32     698             32  1905      36     1       Page         25   \n",
       "3      59     698             59  1905      36     1       Page         52   \n",
       "4      62     698             62  1905      36     1       Page         55   \n",
       "\n",
       "  PageTypeName      CreationDate  \n",
       "0         Text  2006-05-12 00:00  \n",
       "1         Text  2006-05-12 00:00  \n",
       "2         Text  2006-05-12 00:00  \n",
       "3         Text  2006-05-12 00:00  \n",
       "4         Text  2006-05-12 00:00  "
      ]
     },
     "execution_count": 7,
     "metadata": {},
     "output_type": "execute_result"
    }
   ],
   "source": [
    "page_df = pd.read_csv('Data/page.txt', sep='\\t', nrows=1000)\n",
    "page_df.head()"
   ]
  },
  {
   "cell_type": "code",
   "execution_count": null,
   "id": "bca10567-2e98-473c-9430-bd03e5b66639",
   "metadata": {},
   "outputs": [],
   "source": []
  }
 ],
 "metadata": {
  "kernelspec": {
   "display_name": "Python 3 (ipykernel)",
   "language": "python",
   "name": "python3"
  },
  "language_info": {
   "codemirror_mode": {
    "name": "ipython",
    "version": 3
   },
   "file_extension": ".py",
   "mimetype": "text/x-python",
   "name": "python",
   "nbconvert_exporter": "python",
   "pygments_lexer": "ipython3",
   "version": "3.10.6"
  }
 },
 "nbformat": 4,
 "nbformat_minor": 5
}
